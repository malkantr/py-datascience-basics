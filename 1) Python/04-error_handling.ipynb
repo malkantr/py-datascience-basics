{
 "cells": [
  {
   "cell_type": "markdown",
   "id": "6dc5dc13",
   "metadata": {},
   "source": [
    "# error handling"
   ]
  },
  {
   "cell_type": "markdown",
   "id": "8fd57cb8",
   "metadata": {},
   "source": [
    "## syntax error"
   ]
  },
  {
   "cell_type": "code",
   "execution_count": 2,
   "id": "ccd303e4",
   "metadata": {},
   "outputs": [
    {
     "ename": "SyntaxError",
     "evalue": "'(' was never closed (9217335.py, line 1)",
     "output_type": "error",
     "traceback": [
      "  \u001b[36mCell\u001b[39m\u001b[36m \u001b[39m\u001b[32mIn[2]\u001b[39m\u001b[32m, line 1\u001b[39m\n\u001b[31m    \u001b[39m\u001b[31mprint(\"sdsd\"\u001b[39m\n         ^\n\u001b[31mSyntaxError\u001b[39m\u001b[31m:\u001b[39m '(' was never closed\n"
     ]
    }
   ],
   "source": [
    "print(\"sdsd\"\n",
    "\n",
    "i = +1"
   ]
  },
  {
   "cell_type": "markdown",
   "id": "29f212ae",
   "metadata": {},
   "source": [
    "## exceptions"
   ]
  },
  {
   "cell_type": "code",
   "execution_count": 6,
   "id": "608ef541",
   "metadata": {},
   "outputs": [
    {
     "ename": "TypeError",
     "evalue": "unsupported operand type(s) for +: 'int' and 'str'",
     "output_type": "error",
     "traceback": [
      "\u001b[31m---------------------------------------------------------------------------\u001b[39m",
      "\u001b[31mTypeError\u001b[39m                                 Traceback (most recent call last)",
      "\u001b[36mCell\u001b[39m\u001b[36m \u001b[39m\u001b[32mIn[6]\u001b[39m\u001b[32m, line 3\u001b[39m\n\u001b[32m      1\u001b[39m a = \u001b[32m10\u001b[39m\n\u001b[32m      2\u001b[39m b = \u001b[33m\"\u001b[39m\u001b[33m2\u001b[39m\u001b[33m\"\u001b[39m\n\u001b[32m----> \u001b[39m\u001b[32m3\u001b[39m \u001b[38;5;28mprint\u001b[39m(\u001b[43ma\u001b[49m\u001b[43m+\u001b[49m\u001b[43mb\u001b[49m)\n",
      "\u001b[31mTypeError\u001b[39m: unsupported operand type(s) for +: 'int' and 'str'"
     ]
    }
   ],
   "source": [
    "a = 10\n",
    "b = \"2\"\n",
    "print(a+b)"
   ]
  },
  {
   "cell_type": "code",
   "execution_count": 22,
   "id": "d4042ed7",
   "metadata": {},
   "outputs": [
    {
     "name": "stdout",
     "output_type": "stream",
     "text": [
      "sifira bolmeye calistin\n",
      "exception\n",
      "all ok\n"
     ]
    }
   ],
   "source": [
    "k = 10\n",
    "zero = 0\n",
    "\n",
    "try:\n",
    "    print(k/zero)\n",
    "except ZeroDivisionError:\n",
    "    print(\"sifira bolmeye calistin\")\n",
    "except:\n",
    "    print(\"hata oldu\")\n",
    "\n",
    "\n",
    "try:\n",
    "    1/0\n",
    "except:\n",
    "    print(\"exception\")\n",
    "else:\n",
    "    print(\"else\")\n",
    "finally:\n",
    "    print(\"all ok\")"
   ]
  },
  {
   "cell_type": "markdown",
   "id": "934414d7",
   "metadata": {},
   "source": [
    "## index error"
   ]
  },
  {
   "cell_type": "markdown",
   "id": "5902c117",
   "metadata": {},
   "source": [
    "list1 = [1,2,3,4]\n",
    "\n",
    "list1[20]"
   ]
  },
  {
   "cell_type": "markdown",
   "id": "c0f90c88",
   "metadata": {},
   "source": [
    "## module not found"
   ]
  },
  {
   "cell_type": "code",
   "execution_count": 19,
   "id": "0a6acda9",
   "metadata": {},
   "outputs": [
    {
     "ename": "ModuleNotFoundError",
     "evalue": "No module named 'numpiii'",
     "output_type": "error",
     "traceback": [
      "\u001b[31m---------------------------------------------------------------------------\u001b[39m",
      "\u001b[31mModuleNotFoundError\u001b[39m                       Traceback (most recent call last)",
      "\u001b[36mCell\u001b[39m\u001b[36m \u001b[39m\u001b[32mIn[19]\u001b[39m\u001b[32m, line 1\u001b[39m\n\u001b[32m----> \u001b[39m\u001b[32m1\u001b[39m \u001b[38;5;28;01mimport\u001b[39;00m\u001b[38;5;250m \u001b[39m\u001b[34;01mnumpiii\u001b[39;00m\n",
      "\u001b[31mModuleNotFoundError\u001b[39m: No module named 'numpiii'"
     ]
    }
   ],
   "source": [
    "import numpiii"
   ]
  },
  {
   "cell_type": "markdown",
   "id": "f390476a",
   "metadata": {},
   "source": [
    "## type error"
   ]
  },
  {
   "cell_type": "code",
   "execution_count": 20,
   "id": "ea0c9174",
   "metadata": {},
   "outputs": [
    {
     "ename": "TypeError",
     "evalue": "can only concatenate str (not \"int\") to str",
     "output_type": "error",
     "traceback": [
      "\u001b[31m---------------------------------------------------------------------------\u001b[39m",
      "\u001b[31mTypeError\u001b[39m                                 Traceback (most recent call last)",
      "\u001b[36mCell\u001b[39m\u001b[36m \u001b[39m\u001b[32mIn[20]\u001b[39m\u001b[32m, line 1\u001b[39m\n\u001b[32m----> \u001b[39m\u001b[32m1\u001b[39m \u001b[33;43m\"\u001b[39;49m\u001b[33;43m2\u001b[39;49m\u001b[33;43m\"\u001b[39;49m\u001b[43m \u001b[49m\u001b[43m+\u001b[49m\u001b[43m \u001b[49m\u001b[32;43m2\u001b[39;49m\n",
      "\u001b[31mTypeError\u001b[39m: can only concatenate str (not \"int\") to str"
     ]
    }
   ],
   "source": [
    "\"2\" + 2"
   ]
  },
  {
   "cell_type": "markdown",
   "id": "1ec2cd88",
   "metadata": {},
   "source": [
    "## value error"
   ]
  },
  {
   "cell_type": "code",
   "execution_count": 21,
   "id": "57da9db0",
   "metadata": {},
   "outputs": [
    {
     "ename": "ValueError",
     "evalue": "invalid literal for int() with base 10: 'sad'",
     "output_type": "error",
     "traceback": [
      "\u001b[31m---------------------------------------------------------------------------\u001b[39m",
      "\u001b[31mValueError\u001b[39m                                Traceback (most recent call last)",
      "\u001b[36mCell\u001b[39m\u001b[36m \u001b[39m\u001b[32mIn[21]\u001b[39m\u001b[32m, line 1\u001b[39m\n\u001b[32m----> \u001b[39m\u001b[32m1\u001b[39m \u001b[38;5;28;43mint\u001b[39;49m\u001b[43m(\u001b[49m\u001b[33;43m\"\u001b[39;49m\u001b[33;43msad\u001b[39;49m\u001b[33;43m\"\u001b[39;49m\u001b[43m)\u001b[49m\n",
      "\u001b[31mValueError\u001b[39m: invalid literal for int() with base 10: 'sad'"
     ]
    }
   ],
   "source": [
    "int(\"sad\")"
   ]
  }
 ],
 "metadata": {
  "kernelspec": {
   "display_name": ".venv",
   "language": "python",
   "name": "python3"
  },
  "language_info": {
   "codemirror_mode": {
    "name": "ipython",
    "version": 3
   },
   "file_extension": ".py",
   "mimetype": "text/x-python",
   "name": "python",
   "nbconvert_exporter": "python",
   "pygments_lexer": "ipython3",
   "version": "3.11.9"
  }
 },
 "nbformat": 4,
 "nbformat_minor": 5
}
