{
 "cells": [
  {
   "cell_type": "markdown",
   "id": "9d24bd29",
   "metadata": {},
   "source": [
    "# numpy"
   ]
  },
  {
   "cell_type": "markdown",
   "id": "1046ceb8",
   "metadata": {},
   "source": [
    "## Numpy Basics"
   ]
  },
  {
   "cell_type": "code",
   "execution_count": 1,
   "id": "c24af1ab",
   "metadata": {},
   "outputs": [],
   "source": [
    "import numpy as np"
   ]
  },
  {
   "cell_type": "code",
   "execution_count": null,
   "id": "376d0565",
   "metadata": {},
   "outputs": [],
   "source": [
    "array = np.array([1,2,3,4,5,6,7,8,9,10,11,12,13,14,15])   # 1*15 vector\n",
    "\n",
    "print(\"type:\",type(array))\n",
    "print(array)\n",
    "print(\"shape:\",array.shape)\n",
    "print(\"dimension:\",array.ndim)\n",
    "\n",
    "a = array.reshape(3,5)\n",
    "\n",
    "print(\"type:\",type(a))\n",
    "print(a)\n",
    "print(a.shape)\n",
    "print(\"shape:\",a.shape)\n",
    "print(\"dimension:\",a.ndim)\n",
    "print(\"data type:\", a.dtype.name)\n",
    "print(\"size:\",a.size)"
   ]
  },
  {
   "cell_type": "code",
   "execution_count": null,
   "id": "a0d6edd2",
   "metadata": {},
   "outputs": [],
   "source": [
    "array1 = np.array([[1,2,3,4],[5,6,7,8],[9,8,7,5]])\n",
    "print(array1)"
   ]
  },
  {
   "cell_type": "code",
   "execution_count": null,
   "id": "c520a8d7",
   "metadata": {},
   "outputs": [],
   "source": [
    "# allocation\n",
    "zeros = np.zeros((3,4))\n",
    "print(zeros)\n",
    "zeros[0,0] = 5\n",
    "print(zeros)\n",
    "\n",
    "\n",
    "ones = np.ones((3,4))\n",
    "print(ones)\n",
    "\n",
    "empty = np.empty((3,4))\n",
    "print(empty)\n",
    "\n",
    "a = np.arange(10,50,5)  # 10 dan 50 ye kadar 5'er artan array olustur\n",
    "print(a)\n",
    "\n",
    "a = np.linspace(10,50,20) # 10 dan 50 ye kadar 20 sayi\n",
    "print(a)"
   ]
  },
  {
   "cell_type": "markdown",
   "id": "d99af582",
   "metadata": {},
   "source": [
    "## Numpy Basic Operations"
   ]
  },
  {
   "cell_type": "code",
   "execution_count": null,
   "id": "0e96dad2",
   "metadata": {},
   "outputs": [],
   "source": [
    "a = np.array([1,2,3])\n",
    "b = np.array([4,5,6])\n",
    "\n",
    "print(a+b)\n",
    "print(a*b)\n",
    "print(a**2)\n",
    "\n",
    "print(np.sin(a))\n",
    "print(a<2)\n",
    "\n"
   ]
  },
  {
   "cell_type": "code",
   "execution_count": null,
   "id": "c77d6a2d",
   "metadata": {},
   "outputs": [],
   "source": [
    "\n",
    "a  = np.array([[1,2,3], [4,5,6]])\n",
    "b  = np.array([[1,2,3], [4,5,6]])\n",
    "\n",
    "# element wise product\n",
    "print(a*b)\n",
    "\n",
    "# matrix product\n",
    "a.dot(b.T) # T = transpose\n",
    "\n",
    "# exponantinal\n",
    "print(np.exp(a))\n",
    "\n",
    "# \n",
    "\n",
    "a = np.random.random((5,5))\n",
    "print(a)\n",
    "print(\"---\")\n",
    "print(a.sum())\n",
    "print(a.sum(axis=0))   # axis = 0 => columns toplan demek\n",
    "print(a.sum(axis=1))   # axis = 1 => satirlari topla demek\n",
    "\n",
    "print(\"---max min\")\n",
    "print(a.max())\n",
    "print(a.min())\n",
    "\n",
    "print(\"---squareroot\")\n",
    "print(np.sqrt(a))\n",
    "\n",
    "print(\"---\")\n",
    "\n",
    "print(np.square(a))\n",
    "print(\"---\")\n",
    "\n",
    "print(np.add(a,a))\n",
    "print(\"---\")\n"
   ]
  },
  {
   "cell_type": "markdown",
   "id": "1e41f6f5",
   "metadata": {},
   "source": [
    "## Indexing and Slicing"
   ]
  },
  {
   "cell_type": "code",
   "execution_count": null,
   "id": "4e2f2db6",
   "metadata": {},
   "outputs": [],
   "source": [
    "# One Dimension Array\n",
    "one_d_array = np.array([0,1,2,3,4,5,6,7])  # vector dimension = 1 (tek boyutlu bir array)\n",
    "\n",
    "print(\"array\",one_d_array)\n",
    "print(\"0th\",one_d_array[0])\n",
    "print(\"0 ve 4. kadar\",one_d_array[0:4])\n",
    "\n",
    "reverse_array = one_d_array[::-1]\n",
    "print(\"reverse array\", reverse_array)"
   ]
  },
  {
   "cell_type": "code",
   "execution_count": null,
   "id": "31e868a0",
   "metadata": {},
   "outputs": [],
   "source": [
    "# Two Dimension Array\n",
    "two_d_array = np.array(\n",
    "    [[1,2,3,4,5],\n",
    "     [6,7,8,9,10]])\n",
    "\n",
    "print(\"array\", two_d_array)\n",
    "print(\"2. row, 2. column\", two_d_array[1,1])\n",
    "print(\"all rows, 2. column\", two_d_array[:,1])\n",
    "print(\"2. row, 2,3,4. column\", two_d_array[:,1:4])\n",
    "print(\"last row, all columns\", two_d_array[-1,:])\n",
    "print(\"all row, last column\", two_d_array[:,-1])\n",
    "\n",
    "\n",
    "\n"
   ]
  },
  {
   "cell_type": "markdown",
   "id": "c3b6b1b2",
   "metadata": {},
   "source": [
    "## Shape Manipulation"
   ]
  },
  {
   "cell_type": "code",
   "execution_count": null,
   "id": "38417926",
   "metadata": {},
   "outputs": [],
   "source": [
    "# 3 * 3 array\n",
    "array = np.array(\n",
    "    [[1,2,3],\n",
    "    [4,5,6],\n",
    "    [7,8,9]])\n",
    "\n",
    "array_flat = array.ravel()         # array i vector haline getirdik\n",
    "print(\"flat/vector\\n\", array_flat)\n",
    "\n",
    "array_matrix = array_flat.reshape(3,3)      # tekrar matrix haline getirdik, \n",
    "print(\"matrix\\n\", b)\n",
    "\n",
    "array_transpose = array_matrix.T      # transpose'unu alicaz\n",
    "print(\"transpose\\n\", array_transpose)\n",
    "print(\"shape\",array_transpose.shape)\n",
    "\n",
    "array_new = np.array([[1,2],[3,4],[5,6]])   # 2 * 3 lük array\n",
    "print(array_new)\n",
    "array_new_resized = array_new.reshape(2,3)\n",
    "print(array_new)\n",
    "print(array_new_resized)\n"
   ]
  },
  {
   "cell_type": "markdown",
   "id": "e6f2160c",
   "metadata": {},
   "source": [
    "## Stacking Arrays"
   ]
  },
  {
   "cell_type": "code",
   "execution_count": null,
   "id": "de8eb91b",
   "metadata": {},
   "outputs": [],
   "source": [
    "array1 = np.array([[1,2],[3,4]])\n",
    "array2 = np.array([[-1,-2],[-3,-4]])\n",
    "\n",
    "# birleştirmek istiyoruz. dikine (vertical), yanyana (horizontal)\n",
    "\n",
    "# vertical\n",
    "vertical = np.vstack((array1,array2))\n",
    "print(\"vertical\\n\", vertical)\n",
    "\n",
    "# horizontal\n",
    "horizontal = np.hstack((array1,array2))\n",
    "print(\"horizontal\\n\",horizontal)"
   ]
  },
  {
   "cell_type": "markdown",
   "id": "643fa151",
   "metadata": {},
   "source": [
    "## Convert  and Copy Array"
   ]
  },
  {
   "cell_type": "code",
   "execution_count": null,
   "id": "9c967bb9",
   "metadata": {},
   "outputs": [],
   "source": [
    "\n",
    "liste = [1,2,3,4]\n",
    "\n",
    "array = np.array(liste)\n",
    "\n",
    "liste2 = list(array)\n",
    "\n",
    "print(type(liste))\n",
    "print(type(array))\n",
    "print(type(liste2))\n",
    "print(\"----\")\n",
    "\n",
    "#liste - pandas ta guzel kutuphaneler var\n",
    "#array - numpy da guzel seyler var\n",
    "\n",
    "\n",
    "a = np.array([1,2,3])\n",
    "b = a\n",
    "c = a\n",
    "print(\"a\",a)\n",
    "print(\"b\",b)\n",
    "print(\"c\",c)\n",
    "\n",
    "print(\"----b[0]=5\")\n",
    "b[0] = 5\n",
    "\n",
    "print(\"a\",a)\n",
    "print(\"b\",b)\n",
    "print(\"c\",c)\n",
    "print(\"----\")\n",
    "\n",
    "#numpy array memory'de alan olarak tutulur\n",
    "d = np.array([1,2,3])\n",
    "e= d.copy()\n",
    "f= d.copy()\n",
    "\n",
    "print(\"d\",d)\n",
    "print(\"e\",e)\n",
    "print(\"f\",f)\n",
    "\n",
    "print(\"----e[0]=5\")\n",
    "e[0] = 5\n",
    "print(\"d\",d)\n",
    "print(\"e\",e)\n",
    "print(\"f\",f)\n",
    "print(\"----\")"
   ]
  }
 ],
 "metadata": {
  "kernelspec": {
   "display_name": "pydatai",
   "language": "python",
   "name": "python3"
  },
  "language_info": {
   "codemirror_mode": {
    "name": "ipython",
    "version": 3
   },
   "file_extension": ".py",
   "mimetype": "text/x-python",
   "name": "python",
   "nbconvert_exporter": "python",
   "pygments_lexer": "ipython3",
   "version": "3.11.9"
  }
 },
 "nbformat": 4,
 "nbformat_minor": 5
}
