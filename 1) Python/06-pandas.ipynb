{
 "cells": [
  {
   "cell_type": "markdown",
   "id": "36fb2b9b",
   "metadata": {},
   "source": [
    "# Pandas"
   ]
  },
  {
   "cell_type": "markdown",
   "id": "0ba6480b",
   "metadata": {},
   "source": [
    "## Introduction"
   ]
  },
  {
   "cell_type": "code",
   "execution_count": null,
   "id": "81c3de58",
   "metadata": {},
   "outputs": [],
   "source": [
    "import pandas as pd"
   ]
  },
  {
   "cell_type": "markdown",
   "id": "bcb77685",
   "metadata": {},
   "source": [
    "numpy : matrix ve arraylerde iyi calisir\n",
    "\n",
    "pandas : excel gibi dusunebilirsiniz\n",
    "\n",
    "1) pandas hizli ve etkili for dataframes,\n",
    "2) csv ve text dosyalari acip inceleyip, rahatca kaydedebiliriz\n",
    "3) pandas missing data gibi alanlarda işimize yariyor\n",
    "4) reshape ile datayi daha etkili bir sekilde kullanabiliriz \n",
    "5) slicing indexing kolay\n",
    "6) time series data larla yardimci\n",
    "7) hizli\n"
   ]
  },
  {
   "cell_type": "code",
   "execution_count": null,
   "id": "bcca9a74",
   "metadata": {},
   "outputs": [],
   "source": [
    "dictionary = {\"NAME\":[\"ali\",\"veli\",\"kenan\",\"hilal\",\"ayse\",\"evren\"],\n",
    "              \"AGE\":[15,16,17,33,45,66], \n",
    "              \"MAAS\":[100,150,240,350,110,220]}\n",
    "\n",
    "df = pd.DataFrame(dictionary)\n",
    "\n",
    "print(type(df))\n",
    "print(df)"
   ]
  },
  {
   "cell_type": "code",
   "execution_count": null,
   "id": "609ccc87",
   "metadata": {},
   "outputs": [],
   "source": [
    "head = df.head()\n",
    "tail = df.tail(3)\n",
    "\n",
    "print(head)\n",
    "print(tail)"
   ]
  },
  {
   "cell_type": "markdown",
   "id": "2847bb5f",
   "metadata": {},
   "source": [
    "## Basic Methods"
   ]
  },
  {
   "cell_type": "code",
   "execution_count": null,
   "id": "b48ae937",
   "metadata": {},
   "outputs": [],
   "source": [
    "print(df.columns)\n",
    "print(\"------\\n\")\n",
    "\n",
    "print(df.info())\n",
    "print(\"------\\n\")\n",
    "\n",
    "print(df.dtypes)\n",
    "print(\"------\\n\")\n",
    "\n",
    "# describe: numeric feature = columns(age,maas) \n",
    "print(df.describe()) \n",
    "print(\"------\\n\")"
   ]
  },
  {
   "cell_type": "markdown",
   "id": "b2acee04",
   "metadata": {},
   "source": [
    "## Indexing and Slicing"
   ]
  },
  {
   "cell_type": "code",
   "execution_count": null,
   "id": "17943829",
   "metadata": {},
   "outputs": [],
   "source": [
    "\n",
    "#print(df[\"AGE\"])\n",
    "#print(df.AGE)\n",
    "\n",
    "df[\"yeni_feature\"]=[-1,-2,-3,-4,-5,-6]\n",
    "#print(df.yeni_feature)\n",
    "\n",
    "# loc[satirlar,sutunlar]\n",
    "print(df.loc[:,\"AGE\"],\"\\n\")     # tum satirlar, age column'u\n",
    "print(df.loc[:3,\"AGE\"],\"\\n\")    # 0dan 3e kadar\n",
    "\n",
    "print(df.loc[:3,\"AGE\":\"MAAS\"],\"iki kolon\\n\")\n",
    "print(df.loc[:3,[\"AGE\",\"NAME\"]],\"ucuncu dahil\\n\") # 3. index dahil yazdır\n",
    "print(df.loc[:3,:\"AGE\"],\"\\n\") # 3. index dahil yazdır\n",
    "\n",
    "print(df.loc[::-1,:],\"tersten\\n\") # ters yazdır\n",
    "\n",
    "print(df.loc[:,:\"NAME\"],\"\\n\") # tum satirlar, sifirinci kolondan basla name dahil yazdir\n",
    "\n",
    "\n",
    "print(df.iloc[:,0],\"integer locations\\n\") # integer location"
   ]
  },
  {
   "cell_type": "markdown",
   "id": "93f36946",
   "metadata": {},
   "source": [
    "## Filtering Data Frames"
   ]
  },
  {
   "cell_type": "code",
   "execution_count": null,
   "id": "28de805b",
   "metadata": {},
   "outputs": [],
   "source": [
    "filtre1 = df.MAAS > 200\n",
    "print(type(filtre1))\n",
    "print(\"\\n\", filtre1)\n",
    "\n",
    "filtrelenmis_data = df[filtre1]\n",
    "print(\"\\n\", filtrelenmis_data)\n",
    "\n",
    "filtre2 = df.AGE < 20\n",
    "print(\"\\n\", filtre2)\n",
    "\n",
    "filtrelenmis_data2 = df[filtre1 & filtre2]\n",
    "print(\"\\n\", filtrelenmis_data2, \"double filter\\n\")\n",
    "\n",
    "print(\"\\n\", df[df.AGE > 60])"
   ]
  },
  {
   "cell_type": "markdown",
   "id": "711b96d6",
   "metadata": {},
   "source": [
    "## List Comprehension"
   ]
  },
  {
   "cell_type": "code",
   "execution_count": null,
   "id": "b5cd9bf1",
   "metadata": {},
   "outputs": [],
   "source": [
    "\n",
    "#ortalama_maas_numpy = np.mean(dataFrame1.MAAS)\n",
    "df = pd.DataFrame(dictionary)\n",
    "\n",
    "\n",
    "ortalama_maas = df.MAAS.mean()\n",
    "print(\"ortalama maas\", ortalama_maas)\n",
    "\n",
    "# for each in df.MAAS:\n",
    "#     if(ortalama_maas > each):\n",
    "#         print(\"dusuk 2\")\n",
    "#     else:\n",
    "#         print(\"yuksek 2\")\n",
    "\n",
    "df[\"maas Seviyesi\"] = [\"dusuk\" if ortalama_maas > each else \"yuksek\" for each in df.MAAS]\n",
    "\n",
    "print(\"\\n\",df.columns)\n",
    "df.columns = [  each.lower() for each in df.columns]\n",
    "print(\"\\n\",df.columns)\n",
    "\n",
    "df.columns = [ each.split()[0]+\"_\"+each.split()[1] if (len(each.split())>1) else each for each in df.columns]\n",
    "print(df.columns)\n"
   ]
  },
  {
   "cell_type": "markdown",
   "id": "4f6b6a4c",
   "metadata": {},
   "source": [
    "## Concatenating Data"
   ]
  },
  {
   "cell_type": "code",
   "execution_count": null,
   "id": "ab99200c",
   "metadata": {},
   "outputs": [],
   "source": [
    "\n",
    "#df.drop([\"yeni feature\"], axis=1, inplace = True)\n",
    "# or \n",
    "#df = df.frop([\"yeni_feature\"],axis=1)  # axis = 1 sutun/coloum demek   (horizontal)\n",
    "#                                       # axis = 0 satir/row demek      (vertical)\n",
    "\n",
    "data1 = df.head()\n",
    "data2 = df.tail()\n",
    "\n",
    "# vertical\n",
    "data_concat = pd.concat([data1,data2],axis=0)\n",
    "print(\"\\n\",data_concat)\n",
    "\n",
    "# horizontal\n",
    "maas = df.maas\n",
    "age = df.age\n",
    "\n",
    "data_h_concat = pd.concat([maas,age],axis=1)\n",
    "print(\"\\n\",data_h_concat)\n"
   ]
  },
  {
   "cell_type": "markdown",
   "id": "14a5ede5",
   "metadata": {},
   "source": [
    "## Transforming Data"
   ]
  },
  {
   "cell_type": "code",
   "execution_count": null,
   "id": "8b61631c",
   "metadata": {},
   "outputs": [],
   "source": [
    "\n",
    "df[\"list_comp\"]= [ each*2 for each in df.age]\n",
    "\n",
    "# apply\n",
    "def multiply(age):\n",
    "    return age*2\n",
    "\n",
    "df[\"apply_methodu\"] = df.age.apply(multiply)\n",
    "\n",
    "print(df)\n",
    "\n"
   ]
  }
 ],
 "metadata": {
  "kernelspec": {
   "display_name": "pydatai",
   "language": "python",
   "name": "python3"
  },
  "language_info": {
   "codemirror_mode": {
    "name": "ipython",
    "version": 3
   },
   "file_extension": ".py",
   "mimetype": "text/x-python",
   "name": "python",
   "nbconvert_exporter": "python",
   "pygments_lexer": "ipython3",
   "version": "3.11.9"
  }
 },
 "nbformat": 4,
 "nbformat_minor": 5
}
