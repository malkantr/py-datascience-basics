{
 "cells": [
  {
   "cell_type": "markdown",
   "id": "379f6c71",
   "metadata": {},
   "source": [
    "# Object Oriented Programming"
   ]
  },
  {
   "cell_type": "code",
   "execution_count": null,
   "id": "32c6df76",
   "metadata": {},
   "outputs": [],
   "source": [
    "\"\"\"\n",
    "Created on Fri April 11\n",
    "\n",
    "@author: Dave\n",
    "\"\"\"\n",
    "class Calisan:\n",
    "\n",
    "    zam_orani = 1.8\n",
    "    self_counter = 0\n",
    "    class_counter = 0\n",
    "\n",
    "    def __init__(self, isim,soyisim,maas):\n",
    "        self.isim = isim\n",
    "        self.soyisim = soyisim\n",
    "        self.maas = maas\n",
    "        self.email = isim+soyisim+\"@email.local\"\n",
    "\n",
    "        self.self_counter = self.self_counter + 1\n",
    "        Calisan.class_counter = Calisan.class_counter + 1\n",
    "    \n",
    "    def giveNameSurname(self):\n",
    "        return self.isim + \" \" + self.soyisim\n",
    "    \n",
    "    def zam_yap(self):\n",
    "        self.maas = self.maas + self.maas * self.zam_orani\n",
    "\n",
    "\n",
    "calisan0 = Calisan(\"ali\",\"veli\",100)\n",
    "print(calisan0)\n",
    "print(calisan0.giveNameSurname())\n",
    "calisan0.zam_yap()\n",
    "print(\"yeni maas:\",calisan0.maas)\n",
    "\n",
    "\n",
    "print(\"self_counter\",calisan0.self_counter)\n",
    "print(\"class_counter\",calisan0.class_counter)\n"
   ]
  },
  {
   "cell_type": "code",
   "execution_count": null,
   "id": "319ce060",
   "metadata": {},
   "outputs": [],
   "source": [
    "\n",
    "calisan1 = Calisan(\"ali\",\"veli\",100)\n",
    "calisan2 = Calisan(\"ahmet\",\"mehmet\", 200)\n",
    "calisan3 = Calisan(\"kerim\",\"kehmet\", 600)\n",
    "calisan4 = Calisan(\"terim\",\"tohmet\", 400)\n",
    "\n",
    "liste  = [calisan1, calisan2, calisan3, calisan4]\n",
    "\n",
    "max_maas = -1\n",
    "max_calisan = -1\n",
    "\n",
    "for each in liste:\n",
    "    if(each.maas > max_maas):\n",
    "        max_maas = each.maas\n",
    "        max_calisan = each\n",
    "\n",
    "print(max_maas)\n",
    "print(max_calisan.giveNameSurname())"
   ]
  }
 ],
 "metadata": {
  "kernelspec": {
   "display_name": ".venv",
   "language": "python",
   "name": "python3"
  },
  "language_info": {
   "codemirror_mode": {
    "name": "ipython",
    "version": 3
   },
   "file_extension": ".py",
   "mimetype": "text/x-python",
   "name": "python",
   "nbconvert_exporter": "python",
   "pygments_lexer": "ipython3",
   "version": "3.11.9"
  }
 },
 "nbformat": 4,
 "nbformat_minor": 5
}
