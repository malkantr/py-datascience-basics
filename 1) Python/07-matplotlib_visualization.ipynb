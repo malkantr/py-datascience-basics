{
 "cells": [
  {
   "cell_type": "markdown",
   "id": "6e5115b4",
   "metadata": {},
   "source": [
    "# Visualization with Matplotlib"
   ]
  },
  {
   "cell_type": "code",
   "execution_count": null,
   "id": "a9a9e663",
   "metadata": {},
   "outputs": [],
   "source": [
    "import pandas as pd"
   ]
  },
  {
   "cell_type": "markdown",
   "id": "874a8de1",
   "metadata": {},
   "source": [
    "## setup\n",
    "\n",
    "iris = süsen, \n",
    "sepal = canak yaprak,\n",
    "petal = taç yaprak,\n"
   ]
  },
  {
   "cell_type": "code",
   "execution_count": null,
   "id": "d96d82fc",
   "metadata": {},
   "outputs": [],
   "source": [
    "df = pd.read_csv(\"data/07iris.csv\")\n",
    "\n",
    "print(df.head,\"head\\n\")"
   ]
  },
  {
   "cell_type": "code",
   "execution_count": null,
   "id": "9f0b0001",
   "metadata": {},
   "outputs": [],
   "source": [
    "print(df.columns,\"columns\\n\")\n",
    "print(df.Species.unique(), \"unique species\\n\")\n",
    "print(df.info(), \"info\\n\")\n",
    "print(df.describe(),\"describe\\n\")"
   ]
  },
  {
   "cell_type": "code",
   "execution_count": null,
   "id": "235f548a",
   "metadata": {},
   "outputs": [],
   "source": [
    "setosa = df[df.Species == \"Iris-setosa\"]\n",
    "print(setosa.describe(), \"iris-setosa\\n\")\n",
    "\n",
    "versicolor = df[df.Species == \"Iris-versicolor\"]\n",
    "print(versicolor.describe(), \"iris-versicolor\\n\")"
   ]
  },
  {
   "cell_type": "markdown",
   "id": "0c9040e1",
   "metadata": {},
   "source": [
    "## Matplotlib Kutuphanaesi"
   ]
  },
  {
   "cell_type": "code",
   "execution_count": null,
   "id": "6fe31ea0",
   "metadata": {},
   "outputs": [],
   "source": [
    "import matplotlib.pyplot as plt"
   ]
  },
  {
   "cell_type": "code",
   "execution_count": null,
   "id": "e9a62f16",
   "metadata": {},
   "outputs": [],
   "source": [
    "df1 = df.drop([\"Id\"],axis=1)  # axis = 1 column demek\n",
    "\n",
    "df1.plot()\n",
    "plt.show()\n",
    "\n",
    "df1.plot(grid = True, alpha= 0.9)\n",
    "plt.show()"
   ]
  },
  {
   "cell_type": "code",
   "execution_count": null,
   "id": "7a121fe2",
   "metadata": {},
   "outputs": [],
   "source": [
    "setosa = df[df.Species == \"Iris-setosa\"]\n",
    "versicolor = df[df.Species == \"Iris-versicolor\"]\n",
    "virginica = df[df.Species == \"Iris-virginica\"]\n"
   ]
  },
  {
   "cell_type": "code",
   "execution_count": null,
   "id": "c5f07abf",
   "metadata": {},
   "outputs": [],
   "source": [
    "print(len(setosa))\n",
    "print(len(versicolor))\n",
    "print(len(virginica))"
   ]
  },
  {
   "cell_type": "markdown",
   "id": "379867e8",
   "metadata": {},
   "source": [
    "## Line plot"
   ]
  },
  {
   "cell_type": "code",
   "execution_count": null,
   "id": "3fc965a6",
   "metadata": {},
   "outputs": [],
   "source": [
    "# plt.plot(x = , y = , color = , label = )\n",
    "\n",
    "plt.plot(setosa.Id, setosa.PetalLengthCm, color = \"red\", label = \"setosa\")\n",
    "plt.plot(versicolor.Id, versicolor.PetalLengthCm, color = \"green\", label = \"versicolor\")\n",
    "plt.plot(virginica.Id, virginica.PetalLengthCm, color = \"blue\", label = \"virginica\")\n",
    "\n",
    "plt.legend()\n",
    "plt.title(\"Line plot\")\n",
    "plt.xlabel(\"Id\")\n",
    "plt.ylabel(\"PetalLengthCm\")\n",
    "plt.show()\n"
   ]
  },
  {
   "cell_type": "markdown",
   "id": "f593e3a7",
   "metadata": {},
   "source": [
    "## Scatter plot"
   ]
  },
  {
   "cell_type": "code",
   "execution_count": null,
   "id": "4febda1c",
   "metadata": {},
   "outputs": [],
   "source": [
    "plt.scatter(setosa.PetalLengthCm, setosa.PetalWidthCm, color=\"red\",label=\"setosa\")\n",
    "plt.scatter(versicolor.PetalLengthCm, versicolor.PetalWidthCm, color=\"green\",label=\"versicolor\")\n",
    "plt.scatter(virginica.PetalLengthCm, virginica.PetalWidthCm, color=\"blue\",label=\"virginica\")\n",
    "\n",
    "plt.legend()\n",
    "plt.title(\"scatter plot\")\n",
    "plt.xlabel(\"PetalLengthCm\")\n",
    "plt.ylabel(\"PetalWidthCm\")\n",
    "plt.show()\n"
   ]
  },
  {
   "cell_type": "markdown",
   "id": "e25d4dff",
   "metadata": {},
   "source": [
    "## Histogram plot"
   ]
  },
  {
   "cell_type": "code",
   "execution_count": null,
   "id": "98412854",
   "metadata": {},
   "outputs": [],
   "source": [
    "plt.hist(setosa.PetalLengthCm, bins=10)\n",
    "\n",
    "plt.title(\"hist\")\n",
    "plt.xlabel(\"PetalLengthCm values\")\n",
    "plt.ylabel(\"frekans\")\n",
    "plt.show()"
   ]
  },
  {
   "cell_type": "markdown",
   "id": "af388c39",
   "metadata": {},
   "source": [
    "## Bar plot"
   ]
  },
  {
   "cell_type": "code",
   "execution_count": null,
   "id": "35bde1d8",
   "metadata": {},
   "outputs": [],
   "source": [
    "import numpy as np"
   ]
  },
  {
   "cell_type": "code",
   "execution_count": null,
   "id": "5a6f369d",
   "metadata": {},
   "outputs": [],
   "source": [
    "x = np.array([1,2,3,4,5,6,7])\n",
    "a = [\"turkey\",\"usa\",\"a\",\"b\",\"c\",\"d\",\"s\"]\n",
    "y = x*2+5\n",
    "\n",
    "plt.bar(a,y)\n",
    "\n",
    "plt.title(\"bar plot\")\n",
    "plt.xlabel(\"x\")\n",
    "plt.ylabel(\"y\")\n",
    "\n",
    "plt.show()"
   ]
  },
  {
   "cell_type": "markdown",
   "id": "b6bb44be",
   "metadata": {},
   "source": [
    "## Sub plot"
   ]
  },
  {
   "cell_type": "code",
   "execution_count": null,
   "id": "c8166c0f",
   "metadata": {},
   "outputs": [],
   "source": [
    "df1.plot(grid = True, alpha= 0.8, subplots = True)\n",
    "plt.show()"
   ]
  },
  {
   "cell_type": "code",
   "execution_count": null,
   "id": "ef93cc83",
   "metadata": {},
   "outputs": [],
   "source": [
    "\n",
    "# setosa = df[df.Species == \"Iris-setosa\"]\n",
    "# versicolor = df[df.Species == \"Iris-versicolor\"]\n",
    "# virginica = df[df.Species == \"Iris-virginica\"]\n",
    "\n",
    "plt.subplot(3,1,1) #.help()\n",
    "plt.plot(setosa.Id, setosa.PetalLengthCm, color = \"red\", label = \"setosa\")\n",
    "plt.ylabel(\"setosa - PetalLengthCm\")\n",
    "\n",
    "plt.subplot(3,1,2)\n",
    "plt.plot(versicolor.Id, versicolor.PetalLengthCm, color = \"green\", label = \"versicolor\")\n",
    "plt.ylabel(\"versicolor - PetalLengthCm\")\n",
    "\n",
    "plt.subplot(3,1,3)\n",
    "plt.plot(virginica.Id, virginica.PetalLengthCm, color = \"blue\", label = \"virginica\")\n",
    "plt.ylabel(\"virginica - PetalLengthCm\")\n",
    "\n",
    "plt.plot()"
   ]
  }
 ],
 "metadata": {
  "kernelspec": {
   "display_name": "pydatai",
   "language": "python",
   "name": "python3"
  },
  "language_info": {
   "codemirror_mode": {
    "name": "ipython",
    "version": 3
   },
   "file_extension": ".py",
   "mimetype": "text/x-python",
   "name": "python",
   "nbconvert_exporter": "python",
   "pygments_lexer": "ipython3",
   "version": "3.11.9"
  }
 },
 "nbformat": 4,
 "nbformat_minor": 5
}
