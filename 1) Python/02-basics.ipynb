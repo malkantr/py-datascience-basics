{
 "cells": [
  {
   "cell_type": "markdown",
   "id": "3a433cf2",
   "metadata": {},
   "source": [
    "# Notes"
   ]
  },
  {
   "cell_type": "markdown",
   "id": "e904a05d",
   "metadata": {},
   "source": [
    "## General"
   ]
  },
  {
   "cell_type": "code",
   "execution_count": null,
   "id": "4be1469b",
   "metadata": {},
   "outputs": [],
   "source": [
    "### shortcuts\n",
    "\n",
    "## Section Definition\n",
    "# %% Section name\n",
    "some_string = \"some string\"\n",
    "\n",
    "# %% other section name\n",
    "\n",
    "\n",
    "## shortcuts\n",
    "\n",
    "# shift+enter = run current cell\n",
    "# ctrl+1 = toplu comment\n"
   ]
  },
  {
   "cell_type": "markdown",
   "id": "18d0fa91",
   "metadata": {},
   "source": [
    "## default methods"
   ]
  },
  {
   "cell_type": "code",
   "execution_count": null,
   "id": "a8f023ad",
   "metadata": {},
   "outputs": [],
   "source": [
    "some_string = \"some string\"\n",
    "\n",
    "# help\n",
    "help(some_string)\n",
    "\n",
    "# type\n",
    "type(some_string)\n",
    "\n",
    "# list of methods\n",
    "dir(some_string)\n",
    "\n",
    "# typecasting\n",
    "some_string_int = \"1\"\n",
    "some_int = int(some_string_int)"
   ]
  },
  {
   "cell_type": "markdown",
   "id": "9dfbe182",
   "metadata": {},
   "source": [
    "## functions and parameters"
   ]
  },
  {
   "cell_type": "code",
   "execution_count": null,
   "id": "b26f4c29",
   "metadata": {},
   "outputs": [],
   "source": [
    "def foo1(name, age, weight_value = 5):\n",
    "    print(weight_value)\n",
    "    return\n",
    "\n",
    "def foo2(name, age, *args):\n",
    "    return\n",
    "\n",
    "def foo3(name, age, **kwargs):\n",
    "    return\n"
   ]
  },
  {
   "cell_type": "markdown",
   "id": "0104401e",
   "metadata": {},
   "source": [
    "## data structures"
   ]
  },
  {
   "cell_type": "markdown",
   "id": "cf908323",
   "metadata": {},
   "source": [
    "### lists"
   ]
  },
  {
   "cell_type": "code",
   "execution_count": null,
   "id": "4f0ed0b2",
   "metadata": {},
   "outputs": [],
   "source": [
    "liste = [1,2,3,3,4]\n",
    "value = liste[1]\n",
    "last_value = liste[-1]\n",
    "liste_divide = liste[0:3]\n",
    "liste.append(7)\n",
    "liste.remove(7)\n",
    "liste.reverse()\n",
    "liste.sort()"
   ]
  },
  {
   "cell_type": "markdown",
   "id": "db33181f",
   "metadata": {},
   "source": [
    "### tuple"
   ]
  },
  {
   "cell_type": "code",
   "execution_count": null,
   "id": "ece3f56f",
   "metadata": {},
   "outputs": [],
   "source": [
    "tupl = (1,2,3,3,4)\n",
    "# dir(tupl)\n",
    "\n",
    "tupl.count(3)\n",
    "tupl.index(3)"
   ]
  },
  {
   "cell_type": "markdown",
   "id": "a384ca35",
   "metadata": {},
   "source": [
    "### dictionary"
   ]
  },
  {
   "cell_type": "code",
   "execution_count": null,
   "id": "6482e701",
   "metadata": {},
   "outputs": [],
   "source": [
    "dic = {\"ali\":32, \"veli\":45, \"ahmet\":37}\n",
    "value = dic[\"veli\"]"
   ]
  },
  {
   "cell_type": "markdown",
   "id": "383b9e96",
   "metadata": {},
   "source": [
    "### set"
   ]
  },
  {
   "cell_type": "code",
   "execution_count": null,
   "id": "b7ebb6c0",
   "metadata": {},
   "outputs": [],
   "source": [
    "set_x = {\"ali\",\"veli\",\"ahmet\"}\n",
    "print(type(set_x))"
   ]
  },
  {
   "cell_type": "markdown",
   "id": "1c783f93",
   "metadata": {},
   "source": [
    "## conditionals"
   ]
  },
  {
   "cell_type": "code",
   "execution_count": null,
   "id": "81392235",
   "metadata": {},
   "outputs": [],
   "source": [
    "\n",
    "# ==\n",
    "# !=\n",
    "# >\n",
    "# <\n",
    "# < and >\n",
    "# < or >\n",
    "\n",
    "liste = [1,2,3,4,5]\n",
    "\n",
    "value = 3\n",
    "\n",
    "if value in liste:\n",
    "    print(\"found {} in liste\".format(value))\n",
    "else:\n",
    "    print(\"not found\")\n",
    "\n",
    "\n",
    "dic = {\"ali\":32, \"veli\":45, \"ahmet\":37}\n",
    "\n",
    "keys = dic.keys()\n",
    "print(keys)\n",
    "# dict_keys([\"ali\", \"veli\", \"ahmet\"])\n",
    "if \"ali\" in keys:\n",
    "    print(\"yes\")\n",
    "else:\n",
    "    print(\"no\")\n",
    "    "
   ]
  },
  {
   "cell_type": "markdown",
   "id": "424f6dc1",
   "metadata": {},
   "source": [
    "## Loops"
   ]
  },
  {
   "cell_type": "markdown",
   "id": "1fb91f46",
   "metadata": {},
   "source": [
    "### for loops"
   ]
  },
  {
   "cell_type": "code",
   "execution_count": null,
   "id": "39c8da05",
   "metadata": {},
   "outputs": [],
   "source": [
    "for each in range(1,5):\n",
    "    print(each)\n",
    "\n",
    "for each in \"ankara ist\":\n",
    "    print(each)\n",
    "\n",
    "for each in \"ankara ist\".split():\n",
    "    print(each)\n",
    "\n",
    "liste = [1,2,3,3,5,7,4]\n",
    "\n",
    "summation = sum(liste)\n",
    "\n",
    "count = 0\n",
    "for each in liste:\n",
    "    count = count + each\n",
    "    print(count)\n",
    "print(count)"
   ]
  },
  {
   "cell_type": "markdown",
   "id": "d92c0842",
   "metadata": {},
   "source": [
    "### while loop"
   ]
  },
  {
   "cell_type": "code",
   "execution_count": null,
   "id": "779fd80b",
   "metadata": {},
   "outputs": [],
   "source": [
    "i = 0 \n",
    "while (i < 4):\n",
    "    print(i)\n",
    "    i += 1"
   ]
  }
 ],
 "metadata": {
  "kernelspec": {
   "display_name": ".venv",
   "language": "python",
   "name": "python3"
  },
  "language_info": {
   "codemirror_mode": {
    "name": "ipython",
    "version": 3
   },
   "file_extension": ".py",
   "mimetype": "text/x-python",
   "name": "python",
   "nbconvert_exporter": "python",
   "pygments_lexer": "ipython3",
   "version": "3.11.9"
  }
 },
 "nbformat": 4,
 "nbformat_minor": 5
}
